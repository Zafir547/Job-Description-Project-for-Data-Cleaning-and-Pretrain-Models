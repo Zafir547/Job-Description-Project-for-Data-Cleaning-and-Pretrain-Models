{
 "cells": [
  {
   "cell_type": "markdown",
   "metadata": {},
   "source": [
    "# **Import Library**"
   ]
  },
  {
   "cell_type": "code",
   "execution_count": 25,
   "metadata": {},
   "outputs": [],
   "source": [
    "import os\n",
    "import re\n",
    "import joblib\n",
    "import numpy as np\n",
    "import pandas as pd\n",
    "import matplotlib.pyplot as plt\n",
    "import seaborn as sns\n",
    "\n",
    "import nltk\n",
    "import spacy\n",
    "from nltk.stem import PorterStemmer\n",
    "from nltk.corpus import stopwords\n",
    "from sklearn.model_selection import train_test_split\n",
    "from sklearn.metrics import accuracy_score, classification_report, confusion_matrix\n",
    "from sklearn.tree import DecisionTreeClassifier\n",
    "from sklearn.ensemble import RandomForestClassifier\n",
    "from sklearn.feature_extraction.text import TfidfVectorizer\n",
    "from sklearn.preprocessing import LabelEncoder, MinMaxScaler\n",
    "from sklearn.metrics.pairwise import cosine_similarity"
   ]
  },
  {
   "cell_type": "markdown",
   "metadata": {},
   "source": [
    "# **Ensure required NLTK packages are downloaded**"
   ]
  },
  {
   "cell_type": "code",
   "execution_count": 26,
   "metadata": {},
   "outputs": [
    {
     "name": "stderr",
     "output_type": "stream",
     "text": [
      "[nltk_data] Downloading package stopwords to\n",
      "[nltk_data]     C:\\Users\\zafir\\AppData\\Roaming\\nltk_data...\n",
      "[nltk_data]   Package stopwords is already up-to-date!\n"
     ]
    },
    {
     "data": {
      "text/plain": [
       "True"
      ]
     },
     "execution_count": 26,
     "metadata": {},
     "output_type": "execute_result"
    }
   ],
   "source": [
    "nltk.download(\"stopwords\")"
   ]
  },
  {
   "cell_type": "markdown",
   "metadata": {},
   "source": [
    "# **1. Load the Dataset**"
   ]
  },
  {
   "cell_type": "code",
   "execution_count": 27,
   "metadata": {},
   "outputs": [],
   "source": [
    "df = pd.read_csv(\"job_descriptions.csv\")"
   ]
  },
  {
   "cell_type": "code",
   "execution_count": 28,
   "metadata": {},
   "outputs": [
    {
     "data": {
      "text/plain": [
       "(1615940, 23)"
      ]
     },
     "execution_count": 28,
     "metadata": {},
     "output_type": "execute_result"
    }
   ],
   "source": [
    "df.shape"
   ]
  },
  {
   "cell_type": "code",
   "execution_count": 29,
   "metadata": {},
   "outputs": [
    {
     "data": {
      "text/html": [
       "<div>\n",
       "<style scoped>\n",
       "    .dataframe tbody tr th:only-of-type {\n",
       "        vertical-align: middle;\n",
       "    }\n",
       "\n",
       "    .dataframe tbody tr th {\n",
       "        vertical-align: top;\n",
       "    }\n",
       "\n",
       "    .dataframe thead th {\n",
       "        text-align: right;\n",
       "    }\n",
       "</style>\n",
       "<table border=\"1\" class=\"dataframe\">\n",
       "  <thead>\n",
       "    <tr style=\"text-align: right;\">\n",
       "      <th></th>\n",
       "      <th>Job Id</th>\n",
       "      <th>Experience</th>\n",
       "      <th>Qualifications</th>\n",
       "      <th>Salary Range</th>\n",
       "      <th>location</th>\n",
       "      <th>Country</th>\n",
       "      <th>latitude</th>\n",
       "      <th>longitude</th>\n",
       "      <th>Work Type</th>\n",
       "      <th>Company Size</th>\n",
       "      <th>...</th>\n",
       "      <th>Contact</th>\n",
       "      <th>Job Title</th>\n",
       "      <th>Role</th>\n",
       "      <th>Job Portal</th>\n",
       "      <th>Job Description</th>\n",
       "      <th>Benefits</th>\n",
       "      <th>skills</th>\n",
       "      <th>Responsibilities</th>\n",
       "      <th>Company</th>\n",
       "      <th>Company Profile</th>\n",
       "    </tr>\n",
       "  </thead>\n",
       "  <tbody>\n",
       "    <tr>\n",
       "      <th>0</th>\n",
       "      <td>1089843540111562</td>\n",
       "      <td>5 to 15 Years</td>\n",
       "      <td>M.Tech</td>\n",
       "      <td>$59K-$99K</td>\n",
       "      <td>Douglas</td>\n",
       "      <td>Isle of Man</td>\n",
       "      <td>54.2361</td>\n",
       "      <td>-4.5481</td>\n",
       "      <td>Intern</td>\n",
       "      <td>26801</td>\n",
       "      <td>...</td>\n",
       "      <td>001-381-930-7517x737</td>\n",
       "      <td>Digital Marketing Specialist</td>\n",
       "      <td>Social Media Manager</td>\n",
       "      <td>Snagajob</td>\n",
       "      <td>Social Media Managers oversee an organizations...</td>\n",
       "      <td>{'Flexible Spending Accounts (FSAs), Relocatio...</td>\n",
       "      <td>Social media platforms (e.g., Facebook, Twitte...</td>\n",
       "      <td>Manage and grow social media accounts, create ...</td>\n",
       "      <td>Icahn Enterprises</td>\n",
       "      <td>{\"Sector\":\"Diversified\",\"Industry\":\"Diversifie...</td>\n",
       "    </tr>\n",
       "    <tr>\n",
       "      <th>1</th>\n",
       "      <td>398454096642776</td>\n",
       "      <td>2 to 12 Years</td>\n",
       "      <td>BCA</td>\n",
       "      <td>$56K-$116K</td>\n",
       "      <td>Ashgabat</td>\n",
       "      <td>Turkmenistan</td>\n",
       "      <td>38.9697</td>\n",
       "      <td>59.5563</td>\n",
       "      <td>Intern</td>\n",
       "      <td>100340</td>\n",
       "      <td>...</td>\n",
       "      <td>461-509-4216</td>\n",
       "      <td>Web Developer</td>\n",
       "      <td>Frontend Web Developer</td>\n",
       "      <td>Idealist</td>\n",
       "      <td>Frontend Web Developers design and implement u...</td>\n",
       "      <td>{'Health Insurance, Retirement Plans, Paid Tim...</td>\n",
       "      <td>HTML, CSS, JavaScript Frontend frameworks (e.g...</td>\n",
       "      <td>Design and code user interfaces for websites, ...</td>\n",
       "      <td>PNC Financial Services Group</td>\n",
       "      <td>{\"Sector\":\"Financial Services\",\"Industry\":\"Com...</td>\n",
       "    </tr>\n",
       "    <tr>\n",
       "      <th>2</th>\n",
       "      <td>481640072963533</td>\n",
       "      <td>0 to 12 Years</td>\n",
       "      <td>PhD</td>\n",
       "      <td>$61K-$104K</td>\n",
       "      <td>Macao</td>\n",
       "      <td>Macao SAR, China</td>\n",
       "      <td>22.1987</td>\n",
       "      <td>113.5439</td>\n",
       "      <td>Temporary</td>\n",
       "      <td>84525</td>\n",
       "      <td>...</td>\n",
       "      <td>9687619505</td>\n",
       "      <td>Operations Manager</td>\n",
       "      <td>Quality Control Manager</td>\n",
       "      <td>Jobs2Careers</td>\n",
       "      <td>Quality Control Managers establish and enforce...</td>\n",
       "      <td>{'Legal Assistance, Bonuses and Incentive Prog...</td>\n",
       "      <td>Quality control processes and methodologies St...</td>\n",
       "      <td>Establish and enforce quality control standard...</td>\n",
       "      <td>United Services Automobile Assn.</td>\n",
       "      <td>{\"Sector\":\"Insurance\",\"Industry\":\"Insurance: P...</td>\n",
       "    </tr>\n",
       "    <tr>\n",
       "      <th>3</th>\n",
       "      <td>688192671473044</td>\n",
       "      <td>4 to 11 Years</td>\n",
       "      <td>PhD</td>\n",
       "      <td>$65K-$91K</td>\n",
       "      <td>Porto-Novo</td>\n",
       "      <td>Benin</td>\n",
       "      <td>9.3077</td>\n",
       "      <td>2.3158</td>\n",
       "      <td>Full-Time</td>\n",
       "      <td>129896</td>\n",
       "      <td>...</td>\n",
       "      <td>+1-820-643-5431x47576</td>\n",
       "      <td>Network Engineer</td>\n",
       "      <td>Wireless Network Engineer</td>\n",
       "      <td>FlexJobs</td>\n",
       "      <td>Wireless Network Engineers design, implement, ...</td>\n",
       "      <td>{'Transportation Benefits, Professional Develo...</td>\n",
       "      <td>Wireless network design and architecture Wi-Fi...</td>\n",
       "      <td>Design, configure, and optimize wireless netwo...</td>\n",
       "      <td>Hess</td>\n",
       "      <td>{\"Sector\":\"Energy\",\"Industry\":\"Mining, Crude-O...</td>\n",
       "    </tr>\n",
       "    <tr>\n",
       "      <th>4</th>\n",
       "      <td>117057806156508</td>\n",
       "      <td>1 to 12 Years</td>\n",
       "      <td>MBA</td>\n",
       "      <td>$64K-$87K</td>\n",
       "      <td>Santiago</td>\n",
       "      <td>Chile</td>\n",
       "      <td>-35.6751</td>\n",
       "      <td>-71.5429</td>\n",
       "      <td>Intern</td>\n",
       "      <td>53944</td>\n",
       "      <td>...</td>\n",
       "      <td>343.975.4702x9340</td>\n",
       "      <td>Event Manager</td>\n",
       "      <td>Conference Manager</td>\n",
       "      <td>Jobs2Careers</td>\n",
       "      <td>A Conference Manager coordinates and manages c...</td>\n",
       "      <td>{'Flexible Spending Accounts (FSAs), Relocatio...</td>\n",
       "      <td>Event planning Conference logistics Budget man...</td>\n",
       "      <td>Specialize in conference and convention planni...</td>\n",
       "      <td>Cairn Energy</td>\n",
       "      <td>{\"Sector\":\"Energy\",\"Industry\":\"Energy - Oil &amp; ...</td>\n",
       "    </tr>\n",
       "  </tbody>\n",
       "</table>\n",
       "<p>5 rows × 23 columns</p>\n",
       "</div>"
      ],
      "text/plain": [
       "             Job Id     Experience Qualifications Salary Range    location  \\\n",
       "0  1089843540111562  5 to 15 Years         M.Tech    $59K-$99K     Douglas   \n",
       "1   398454096642776  2 to 12 Years            BCA   $56K-$116K    Ashgabat   \n",
       "2   481640072963533  0 to 12 Years            PhD   $61K-$104K       Macao   \n",
       "3   688192671473044  4 to 11 Years            PhD    $65K-$91K  Porto-Novo   \n",
       "4   117057806156508  1 to 12 Years            MBA    $64K-$87K    Santiago   \n",
       "\n",
       "            Country  latitude  longitude  Work Type  Company Size  ...  \\\n",
       "0       Isle of Man   54.2361    -4.5481     Intern         26801  ...   \n",
       "1      Turkmenistan   38.9697    59.5563     Intern        100340  ...   \n",
       "2  Macao SAR, China   22.1987   113.5439  Temporary         84525  ...   \n",
       "3             Benin    9.3077     2.3158  Full-Time        129896  ...   \n",
       "4             Chile  -35.6751   -71.5429     Intern         53944  ...   \n",
       "\n",
       "                 Contact                     Job Title  \\\n",
       "0   001-381-930-7517x737  Digital Marketing Specialist   \n",
       "1           461-509-4216                 Web Developer   \n",
       "2             9687619505            Operations Manager   \n",
       "3  +1-820-643-5431x47576              Network Engineer   \n",
       "4      343.975.4702x9340                 Event Manager   \n",
       "\n",
       "                        Role    Job Portal  \\\n",
       "0       Social Media Manager      Snagajob   \n",
       "1     Frontend Web Developer      Idealist   \n",
       "2    Quality Control Manager  Jobs2Careers   \n",
       "3  Wireless Network Engineer      FlexJobs   \n",
       "4         Conference Manager  Jobs2Careers   \n",
       "\n",
       "                                     Job Description  \\\n",
       "0  Social Media Managers oversee an organizations...   \n",
       "1  Frontend Web Developers design and implement u...   \n",
       "2  Quality Control Managers establish and enforce...   \n",
       "3  Wireless Network Engineers design, implement, ...   \n",
       "4  A Conference Manager coordinates and manages c...   \n",
       "\n",
       "                                            Benefits  \\\n",
       "0  {'Flexible Spending Accounts (FSAs), Relocatio...   \n",
       "1  {'Health Insurance, Retirement Plans, Paid Tim...   \n",
       "2  {'Legal Assistance, Bonuses and Incentive Prog...   \n",
       "3  {'Transportation Benefits, Professional Develo...   \n",
       "4  {'Flexible Spending Accounts (FSAs), Relocatio...   \n",
       "\n",
       "                                              skills  \\\n",
       "0  Social media platforms (e.g., Facebook, Twitte...   \n",
       "1  HTML, CSS, JavaScript Frontend frameworks (e.g...   \n",
       "2  Quality control processes and methodologies St...   \n",
       "3  Wireless network design and architecture Wi-Fi...   \n",
       "4  Event planning Conference logistics Budget man...   \n",
       "\n",
       "                                    Responsibilities  \\\n",
       "0  Manage and grow social media accounts, create ...   \n",
       "1  Design and code user interfaces for websites, ...   \n",
       "2  Establish and enforce quality control standard...   \n",
       "3  Design, configure, and optimize wireless netwo...   \n",
       "4  Specialize in conference and convention planni...   \n",
       "\n",
       "                            Company  \\\n",
       "0                 Icahn Enterprises   \n",
       "1      PNC Financial Services Group   \n",
       "2  United Services Automobile Assn.   \n",
       "3                              Hess   \n",
       "4                      Cairn Energy   \n",
       "\n",
       "                                     Company Profile  \n",
       "0  {\"Sector\":\"Diversified\",\"Industry\":\"Diversifie...  \n",
       "1  {\"Sector\":\"Financial Services\",\"Industry\":\"Com...  \n",
       "2  {\"Sector\":\"Insurance\",\"Industry\":\"Insurance: P...  \n",
       "3  {\"Sector\":\"Energy\",\"Industry\":\"Mining, Crude-O...  \n",
       "4  {\"Sector\":\"Energy\",\"Industry\":\"Energy - Oil & ...  \n",
       "\n",
       "[5 rows x 23 columns]"
      ]
     },
     "execution_count": 29,
     "metadata": {},
     "output_type": "execute_result"
    }
   ],
   "source": [
    "df.head()"
   ]
  },
  {
   "cell_type": "markdown",
   "metadata": {},
   "source": [
    "# **2. Data Cleaning and Preparation**\n"
   ]
  },
  {
   "cell_type": "code",
   "execution_count": 30,
   "metadata": {},
   "outputs": [
    {
     "data": {
      "text/plain": [
       "Job Id                 0\n",
       "Experience             0\n",
       "Qualifications         0\n",
       "Salary Range           0\n",
       "location               0\n",
       "Country                0\n",
       "latitude               0\n",
       "longitude              0\n",
       "Work Type              0\n",
       "Company Size           0\n",
       "Job Posting Date       0\n",
       "Preference             0\n",
       "Contact Person         0\n",
       "Contact                0\n",
       "Job Title              0\n",
       "Role                   0\n",
       "Job Portal             0\n",
       "Job Description        0\n",
       "Benefits               0\n",
       "skills                 0\n",
       "Responsibilities       0\n",
       "Company                0\n",
       "Company Profile     5478\n",
       "dtype: int64"
      ]
     },
     "execution_count": 30,
     "metadata": {},
     "output_type": "execute_result"
    }
   ],
   "source": [
    "df.isnull().sum()"
   ]
  },
  {
   "cell_type": "code",
   "execution_count": 31,
   "metadata": {},
   "outputs": [],
   "source": [
    "df.dropna(inplace=True)"
   ]
  },
  {
   "cell_type": "code",
   "execution_count": 32,
   "metadata": {},
   "outputs": [
    {
     "data": {
      "text/plain": [
       "Job Id              0\n",
       "Experience          0\n",
       "Qualifications      0\n",
       "Salary Range        0\n",
       "location            0\n",
       "Country             0\n",
       "latitude            0\n",
       "longitude           0\n",
       "Work Type           0\n",
       "Company Size        0\n",
       "Job Posting Date    0\n",
       "Preference          0\n",
       "Contact Person      0\n",
       "Contact             0\n",
       "Job Title           0\n",
       "Role                0\n",
       "Job Portal          0\n",
       "Job Description     0\n",
       "Benefits            0\n",
       "skills              0\n",
       "Responsibilities    0\n",
       "Company             0\n",
       "Company Profile     0\n",
       "dtype: int64"
      ]
     },
     "execution_count": 32,
     "metadata": {},
     "output_type": "execute_result"
    }
   ],
   "source": [
    "df.isnull().sum()"
   ]
  },
  {
   "cell_type": "markdown",
   "metadata": {},
   "source": [
    "### **1. Handling Duplicate Data**"
   ]
  },
  {
   "cell_type": "code",
   "execution_count": 33,
   "metadata": {},
   "outputs": [
    {
     "data": {
      "text/plain": [
       "0"
      ]
     },
     "execution_count": 33,
     "metadata": {},
     "output_type": "execute_result"
    }
   ],
   "source": [
    "df.duplicated().sum()"
   ]
  },
  {
   "cell_type": "code",
   "execution_count": 34,
   "metadata": {},
   "outputs": [
    {
     "name": "stdout",
     "output_type": "stream",
     "text": [
      "Shape after removing duplicates: (1610462, 23)\n"
     ]
    }
   ],
   "source": [
    "# Remove duplicate rows\n",
    "df.drop_duplicates(inplace=True)\n",
    "print(\"Shape after removing duplicates:\", df.shape)"
   ]
  },
  {
   "cell_type": "markdown",
   "metadata": {},
   "source": [
    "### **2. Handling Missing Data**\n"
   ]
  },
  {
   "cell_type": "code",
   "execution_count": 35,
   "metadata": {},
   "outputs": [
    {
     "name": "stdout",
     "output_type": "stream",
     "text": [
      "Shape after dropping rows with missing values: (1610462, 23)\n"
     ]
    }
   ],
   "source": [
    "# Drop rows with missing job_description or job_title\n",
    "df.dropna(subset=[\"Job Description\", \"Job Title\"], inplace=True) # Drop rows where critical fields are missing\n",
    "print(\"Shape after dropping rows with missing values:\", df.shape)"
   ]
  },
  {
   "cell_type": "markdown",
   "metadata": {},
   "source": [
    "### **3. Handling Outliers (e.g., job postings with unrealistic word counts)**\n"
   ]
  },
  {
   "cell_type": "code",
   "execution_count": 36,
   "metadata": {},
   "outputs": [
    {
     "name": "stdout",
     "output_type": "stream",
     "text": [
      "Shape after handling outliers: (1575780, 23)\n"
     ]
    }
   ],
   "source": [
    "desc_length = df[\"Job Description\"].apply(lambda x: len(str(x).split()))\n",
    "q1, q3 = np.percentile(desc_length, [25, 75])\n",
    "iqr = q3 - q1\n",
    "lower_bound = q1 - 1.5 * iqr\n",
    "upper_bound = q3 + 1.5 * iqr\n",
    "df = df[(desc_length >= lower_bound) & (desc_length <= upper_bound)]\n",
    "print(\"Shape after handling outliers:\", df.shape)"
   ]
  },
  {
   "cell_type": "markdown",
   "metadata": {},
   "source": [
    "# **3. Handling Inconsistent Data & Text Cleaning**"
   ]
  },
  {
   "cell_type": "markdown",
   "metadata": {},
   "source": [
    "#### **Text Cleaning with Lemmatization and Stemming**\n"
   ]
  },
  {
   "cell_type": "code",
   "execution_count": 37,
   "metadata": {},
   "outputs": [
    {
     "name": "stdout",
     "output_type": "stream",
     "text": [
      "Using GPU for spaCy processing.\n"
     ]
    }
   ],
   "source": [
    "# Load spaCy model (Enable GPU if available)\n",
    "# Enable GPU for spaCy (raises error if no GPU is available)\n",
    "try:\n",
    "    spacy.require_gpu()\n",
    "    print(\"Using GPU for spaCy processing.\")\n",
    "except:\n",
    "    print(\"No GPU available, using CPU.\")    "
   ]
  },
  {
   "cell_type": "code",
   "execution_count": 38,
   "metadata": {},
   "outputs": [],
   "source": [
    "# Initialize spaCy model and NLTK's PorterStemmer\n",
    "nlp = spacy.load(\"en_core_web_sm\")\n",
    "stemmer = PorterStemmer()\n",
    "stop_words = set(stopwords.words(\"english\"))"
   ]
  },
  {
   "cell_type": "code",
   "execution_count": 39,
   "metadata": {},
   "outputs": [],
   "source": [
    "def clean_text_preprocess(text):\n",
    "    \"\"\"\n",
    "    Preprocess the input text by:\n",
    "      - Converting to lowercase.\n",
    "      - Removing HTML tags.\n",
    "      - Removing non-alphabetical characters.\n",
    "      - Removing extra whitespace.\n",
    "      - Removing stopwords.\n",
    "    \"\"\"\n",
    "    text = text.lower()\n",
    "    text = re.sub(r\"<[^>]+>\", \" \", text)  # Remove HTML tags\n",
    "    text = re.sub(r\"[^a-z\\s]\", \" \", text)  # Keep only alphabets\n",
    "    text = re.sub(r\"\\s+\", \" \", text).strip()  # Remove extra spaces\n",
    "    text = \" \".join([word for word in text.split() if word not in stop_words])  # Remove stopwords\n",
    "    return text"
   ]
  },
  {
   "cell_type": "code",
   "execution_count": 40,
   "metadata": {},
   "outputs": [],
   "source": [
    "# If you have any RAM requirement—8 GB, 16 GB, 32 GB, or 64 GB—you can replace batch_size = any GB accordingly\n",
    "def clean_text_batch(texts, batch_size=32):\n",
    "    \"\"\"\n",
    "    Process a list of texts using spaCy's nlp.pipe in batches.\n",
    "    Applies pre-processing, lemmatization, and stemming.\n",
    "    \n",
    "    Args:\n",
    "        texts (list): List of raw text strings.\n",
    "        batch_size (int): Batch size for spaCy processing.\n",
    "        \n",
    "    Returns:\n",
    "        list: List of cleaned text strings.\n",
    "    \"\"\"\n",
    "    preprocessed_texts = [clean_text_preprocess(text) for text in texts]\n",
    "    cleaned_texts = []\n",
    "    for doc in nlp.pipe(preprocessed_texts, batch_size=batch_size):\n",
    "        processed_tokens = [stemmer.stem(token.lemma_) for token in doc if token.is_alpha]\n",
    "        cleaned_texts.append(\" \".join(processed_tokens))\n",
    "    return cleaned_texts"
   ]
  },
  {
   "cell_type": "code",
   "execution_count": 41,
   "metadata": {},
   "outputs": [],
   "source": [
    "# If you have any RAM requirement—8 GB, 16 GB, 32 GB, or 64 GB—you can replace batch_size = any GB accordingly\n",
    "# Apply cleaning in batches or If \n",
    "df[\"Cleaned Job Description\"] = clean_text_batch(df[\"Job Description\"].tolist(), batch_size=32)"
   ]
  },
  {
   "cell_type": "code",
   "execution_count": 42,
   "metadata": {},
   "outputs": [],
   "source": [
    "# Standardize job titles (lowercasing and removing extra spaces)\n",
    "df[\"Cleaned Job Title\"] = df[\"Job Title\"].apply(lambda x: x.lower().strip())"
   ]
  },
  {
   "cell_type": "code",
   "execution_count": 43,
   "metadata": {},
   "outputs": [
    {
     "name": "stdout",
     "output_type": "stream",
     "text": [
      "Preview of cleaned job descriptions and titles:\n"
     ]
    },
    {
     "data": {
      "text/html": [
       "<div>\n",
       "<style scoped>\n",
       "    .dataframe tbody tr th:only-of-type {\n",
       "        vertical-align: middle;\n",
       "    }\n",
       "\n",
       "    .dataframe tbody tr th {\n",
       "        vertical-align: top;\n",
       "    }\n",
       "\n",
       "    .dataframe thead th {\n",
       "        text-align: right;\n",
       "    }\n",
       "</style>\n",
       "<table border=\"1\" class=\"dataframe\">\n",
       "  <thead>\n",
       "    <tr style=\"text-align: right;\">\n",
       "      <th></th>\n",
       "      <th>Cleaned Job Description</th>\n",
       "      <th>Cleaned Job Title</th>\n",
       "    </tr>\n",
       "  </thead>\n",
       "  <tbody>\n",
       "    <tr>\n",
       "      <th>0</th>\n",
       "      <td>social medium manag overse organ social medium...</td>\n",
       "      <td>digital marketing specialist</td>\n",
       "    </tr>\n",
       "    <tr>\n",
       "      <th>1</th>\n",
       "      <td>frontend web develop design implement user int...</td>\n",
       "      <td>web developer</td>\n",
       "    </tr>\n",
       "    <tr>\n",
       "      <th>2</th>\n",
       "      <td>qualiti control manag establish enforc qualiti...</td>\n",
       "      <td>operations manager</td>\n",
       "    </tr>\n",
       "    <tr>\n",
       "      <th>3</th>\n",
       "      <td>wireless network engin design implement mainta...</td>\n",
       "      <td>network engineer</td>\n",
       "    </tr>\n",
       "    <tr>\n",
       "      <th>4</th>\n",
       "      <td>confer manag coordin manag confer meet event p...</td>\n",
       "      <td>event manager</td>\n",
       "    </tr>\n",
       "  </tbody>\n",
       "</table>\n",
       "</div>"
      ],
      "text/plain": [
       "                             Cleaned Job Description  \\\n",
       "0  social medium manag overse organ social medium...   \n",
       "1  frontend web develop design implement user int...   \n",
       "2  qualiti control manag establish enforc qualiti...   \n",
       "3  wireless network engin design implement mainta...   \n",
       "4  confer manag coordin manag confer meet event p...   \n",
       "\n",
       "              Cleaned Job Title  \n",
       "0  digital marketing specialist  \n",
       "1                 web developer  \n",
       "2            operations manager  \n",
       "3              network engineer  \n",
       "4                 event manager  "
      ]
     },
     "execution_count": 43,
     "metadata": {},
     "output_type": "execute_result"
    }
   ],
   "source": [
    "print(\"Preview of cleaned job descriptions and titles:\")\n",
    "df[[\"Cleaned Job Description\", \"Cleaned Job Title\"]].head()"
   ]
  },
  {
   "cell_type": "code",
   "execution_count": 44,
   "metadata": {},
   "outputs": [
    {
     "name": "stdout",
     "output_type": "stream",
     "text": [
      "Job title distribution (top 10):\n"
     ]
    },
    {
     "data": {
      "text/plain": [
       "Cleaned Job Title\n",
       "ux/ui designer                  48376\n",
       "digital marketing specialist    27881\n",
       "software engineer               27537\n",
       "network engineer                24307\n",
       "software tester                 20871\n",
       "executive assistant             20710\n",
       "procurement manager             20664\n",
       "financial advisor               20605\n",
       "sales representative            17612\n",
       "social media manager            17549\n",
       "Name: count, dtype: int64"
      ]
     },
     "execution_count": 44,
     "metadata": {},
     "output_type": "execute_result"
    }
   ],
   "source": [
    "# Analyze job title distribution (show top 10)\n",
    "print(\"Job title distribution (top 10):\")\n",
    "df[\"Cleaned Job Title\"].value_counts().head(10)"
   ]
  },
  {
   "cell_type": "markdown",
   "metadata": {},
   "source": [
    "# **4. Feature Scaling (If Numerical Features Exist)**"
   ]
  },
  {
   "cell_type": "markdown",
   "metadata": {},
   "source": [
    "#### **Define a helper function to parse salary range strings like \"$59K-$99K\"**"
   ]
  },
  {
   "cell_type": "code",
   "execution_count": 45,
   "metadata": {},
   "outputs": [],
   "source": [
    "def parse_salary_range(salary_str):\n",
    "    \"\"\"\n",
    "    Converts a salary range string (e.g., \"$59K-$99K\") into a numeric average.\n",
    "    Assumes salary values are in 'K' (thousands) and returns the average salary in thousands.\n",
    "    \"\"\"\n",
    "    # Remove dollar signs, 'K', commas, and extra whitespace\n",
    "    salary_str = salary_str.replace(\"$\", \"\").replace(\"K\", \"\").replace(\",\", \"\").strip()\n",
    "    try:\n",
    "        # Split the range into minimum and maximum parts\n",
    "        parts = salary_str.split(\"-\")\n",
    "        if len(parts) == 2:\n",
    "            salary_min = float(parts[0])\n",
    "            salary_max = float(parts[1])\n",
    "            return (salary_min + salary_max) / 2 # Average of min and max\n",
    "        else:\n",
    "            return np.nan\n",
    "    except Exception as e:\n",
    "        return np.nan"
   ]
  },
  {
   "cell_type": "markdown",
   "metadata": {},
   "source": [
    "#### **Check if \"Salary Range\" exists in the dataframe**"
   ]
  },
  {
   "cell_type": "code",
   "execution_count": 46,
   "metadata": {},
   "outputs": [
    {
     "name": "stdout",
     "output_type": "stream",
     "text": [
      "Scaled Salary (first 5 rows):\n",
      "0    0.383333\n",
      "1    0.616667\n",
      "2    0.500000\n",
      "3    0.350000\n",
      "4    0.266667\n",
      "Name: Scaled Salary, dtype: float64\n"
     ]
    }
   ],
   "source": [
    "if \"Salary Range\" in df.columns:\n",
    "    # Apply the parsing function to create a numeric average salary column\n",
    "    df[\"Salary Avg\"] = df[\"Salary Range\"].apply(parse_salary_range)\n",
    "\n",
    "    # Drop rows where the salary couldn't be parsed (optional)\n",
    "    df.dropna(subset=[\"Salary Avg\"], inplace=True)\n",
    "\n",
    "    # Scale the numeric salary values using MinMaxScaler\n",
    "    scaler = MinMaxScaler() # Alternative: StandardScaler()\n",
    "    df[\"Scaled Salary\"] = scaler.fit_transform(df[[\"Salary Avg\"]])\n",
    "    \n",
    "    print(\"Scaled Salary (first 5 rows):\")\n",
    "    print(df[\"Scaled Salary\"].head())"
   ]
  },
  {
   "cell_type": "markdown",
   "metadata": {},
   "source": [
    "# **5. Feature Extraction using TF-IDF**"
   ]
  },
  {
   "cell_type": "code",
   "execution_count": 47,
   "metadata": {},
   "outputs": [
    {
     "name": "stdout",
     "output_type": "stream",
     "text": [
      "TF-IDF feature matrix shape: (1575780, 931)\n"
     ]
    }
   ],
   "source": [
    "tfidf = TfidfVectorizer(stop_words=\"english\", max_features=5000, binary=True)\n",
    "X = tfidf.fit_transform(df[\"Cleaned Job Description\"])\n",
    "print(\"TF-IDF feature matrix shape:\", X.shape)"
   ]
  },
  {
   "cell_type": "code",
   "execution_count": 48,
   "metadata": {},
   "outputs": [
    {
     "data": {
      "text/plain": [
       "3.8927433225415435"
      ]
     },
     "execution_count": 48,
     "metadata": {},
     "output_type": "execute_result"
    }
   ],
   "source": [
    "X[0].sum()"
   ]
  },
  {
   "cell_type": "code",
   "execution_count": 49,
   "metadata": {},
   "outputs": [
    {
     "data": {
      "text/plain": [
       "array(['abus', 'academ', 'accept', 'access', 'accordingli', 'account',\n",
       "       'accur', 'accuraci', 'achiev', 'acquir', 'acquisit', 'action',\n",
       "       'activ', 'acut', 'ad', 'adapt', 'addict', 'address', 'adher',\n",
       "       'adjust', 'administ', 'administr', 'adolesc', 'adopt', 'adult',\n",
       "       'advanc', 'advers', 'advertis', 'advic', 'advis', 'advisor',\n",
       "       'advoc', 'aerodynam', 'aesthet', 'age', 'agenc', 'agent', 'agil',\n",
       "       'agreement', 'aid', 'aim', 'air', 'aircraft', 'algorithm', 'align',\n",
       "       'allianc', 'alloc', 'analysi', 'analyst', 'analyt', 'analyz',\n",
       "       'anim', 'answer', 'anthropolog', 'api', 'app', 'appeal', 'applic',\n",
       "       'appreci', 'architect', 'architectur', 'area', 'arrang', 'art',\n",
       "       'articl', 'artist', 'artwork', 'aspect', 'assess', 'asset',\n",
       "       'assist', 'associ', 'assur', 'attend', 'attende', 'attorney',\n",
       "       'attract', 'audienc', 'audit', 'autom', 'avail', 'avion', 'awar',\n",
       "       'backend', 'backlog', 'base', 'beauti', 'behavior', 'belong',\n",
       "       'benefit', 'big', 'blog', 'board', 'boost', 'bottleneck', 'brand',\n",
       "       'breach', 'bridg', 'bring', 'brochur', 'browser', 'budget', 'bug',\n",
       "       'build', 'busi', 'button', 'cad', 'calendar', 'campaign', 'candid',\n",
       "       'capabl', 'captiv', 'cardiolog', 'care', 'carri', 'case', 'cash',\n",
       "       'cat', 'cater', 'cd', 'center', 'centric', 'chain', 'challeng',\n",
       "       'chang', 'channel', 'charg', 'chat', 'check', 'chemic', 'child',\n",
       "       'ci', 'circuit', 'citi', 'civil', 'classroom', 'clean', 'clear',\n",
       "       'clerk', 'client', 'clinic', 'close', 'cloud', 'coach', 'code',\n",
       "       'cohes', 'collabor', 'collect', 'color', 'combin', 'comfort',\n",
       "       'commerc', 'commerci', 'common', 'commun', 'compani', 'compel',\n",
       "       'compet', 'competit', 'competitor', 'complet', 'complex',\n",
       "       'complianc', 'compon', 'comprehens', 'comput', 'concept',\n",
       "       'conceptu', 'concern', 'condit', 'conduct', 'confer', 'configur',\n",
       "       'conflict', 'connect', 'consequ', 'conserv', 'consid', 'consist',\n",
       "       'construct', 'consult', 'consum', 'content', 'context', 'continu',\n",
       "       'contract', 'contractor', 'contribut', 'control', 'convers',\n",
       "       'convey', 'coordin', 'cope', 'copi', 'copyright', 'copywrit',\n",
       "       'cor', 'core', 'corpor', 'correct', 'correspond', 'cost',\n",
       "       'counsel', 'counselor', 'coupl', 'court', 'coverag', 'craft',\n",
       "       'creat', 'creation', 'creativ', 'crimin', 'crisi', 'critic',\n",
       "       'cross', 'css', 'curat', 'curriculum', 'custodi', 'custom',\n",
       "       'cyber', 'cybersecur', 'daili', 'dam', 'dashboard', 'data',\n",
       "       'databas', 'date', 'datum', 'day', 'deal', 'debug', 'decis',\n",
       "       'decor', 'deep', 'defect', 'defin', 'deliv', 'deliver', 'deliveri',\n",
       "       'demand', 'demonstr', 'dental', 'depart', 'deploy', 'deriv',\n",
       "       'design', 'desk', 'desktop', 'detect', 'develop', 'development',\n",
       "       'devic', 'devop', 'diagnos', 'diagnosi', 'differ', 'difficulti',\n",
       "       'digit', 'dilig', 'directli', 'director', 'disabl', 'discoveri',\n",
       "       'discrep', 'discrimin', 'discuss', 'diseas', 'disord', 'disput',\n",
       "       'distribut', 'divers', 'divorc', 'doctor', 'document', 'dog',\n",
       "       'domain', 'domest', 'draft', 'drafter', 'draw', 'drive', 'duti',\n",
       "       'dynam', 'eco', 'edg', 'educ', 'effect', 'effici', 'effort',\n",
       "       'elderli', 'electr', 'electron', 'element', 'email', 'emerg',\n",
       "       'emot', 'emphasi', 'employ', 'employe', 'enabl', 'end', 'energi',\n",
       "       'enforc', 'engag', 'engin', 'enhanc', 'enjoy', 'ensur',\n",
       "       'enterpris', 'entertain', 'entri', 'environ', 'environment',\n",
       "       'equin', 'equip', 'essenti', 'establish', 'estat', 'etl', 'evalu',\n",
       "       'event', 'everi', 'examin', 'excel', 'exchang', 'execut',\n",
       "       'exhibit', 'exist', 'exot', 'expand', 'expans', 'expect', 'experi',\n",
       "       'expert', 'expertis', 'explain', 'express', 'extern', 'extract',\n",
       "       'facil', 'facilit', 'famili', 'featur', 'feedback', 'field',\n",
       "       'file', 'financ', 'financi', 'fine', 'firm', 'flight', 'flood',\n",
       "       'flow', 'focu', 'follow', 'forecast', 'forens', 'form', 'foster',\n",
       "       'framework', 'fraud', 'friendli', 'frontend', 'fulfil', 'function',\n",
       "       'furnish', 'furnitur', 'futur', 'gain', 'gap', 'gastroenterolog',\n",
       "       'gather', 'gener', 'generalist', 'geriatr', 'global', 'goal',\n",
       "       'good', 'googl', 'grade', 'graphic', 'group', 'grow', 'growth',\n",
       "       'guid', 'guidanc', 'gum', 'hand', 'handl', 'hardwar', 'health',\n",
       "       'healthcar', 'healthi', 'hear', 'heat', 'help', 'high', 'highway',\n",
       "       'hire', 'histor', 'home', 'hors', 'hospit', 'hotel', 'hr', 'html',\n",
       "       'human', 'hvac', 'hygien', 'hygienist', 'ident', 'identifi', 'ill',\n",
       "       'illustr', 'imag', 'impact', 'implement', 'improv', 'incid',\n",
       "       'includ', 'inclus', 'incom', 'incorpor', 'increas', 'increment',\n",
       "       'independ', 'individu', 'industri', 'infant', 'influenc', 'inform',\n",
       "       'infrastructur', 'initi', 'injuri', 'innov', 'input', 'inquiri',\n",
       "       'insid', 'insight', 'inspect', 'instal', 'institut', 'instruct',\n",
       "       'instructor', 'instrument', 'insur', 'integr', 'intellectu',\n",
       "       'intellig', 'interact', 'interfac', 'interior', 'intern',\n",
       "       'interperson', 'interpret', 'intervent', 'interview', 'intuit',\n",
       "       'inventori', 'invest', 'investig', 'invit', 'involv', 'ip',\n",
       "       'irrig', 'issu', 'item', 'java', 'javascript', 'journey', 'judg',\n",
       "       'keeper', 'key', 'keyword', 'knowledg', 'labor', 'land',\n",
       "       'landscap', 'languag', 'larg', 'launch', 'law', 'lawyer', 'layout',\n",
       "       'lead', 'learn', 'legal', 'lesson', 'level', 'leverag', 'liabil',\n",
       "       'liais', 'librari', 'life', 'light', 'like', 'line', 'liquid',\n",
       "       'list', 'litig', 'live', 'load', 'logic', 'logist', 'long', 'loss',\n",
       "       'loyalti', 'machin', 'machineri', 'maintain', 'mainten', 'make',\n",
       "       'manag', 'manner', 'manual', 'manufactur', 'market', 'materi',\n",
       "       'matter', 'maxim', 'meaning', 'measur', 'mechan', 'media',\n",
       "       'mediat', 'medic', 'medium', 'meet', 'member', 'memor', 'mental',\n",
       "       'mentor', 'merger', 'messag', 'methodolog', 'metric', 'minim',\n",
       "       'mitig', 'mobil', 'model', 'moder', 'modifi', 'monitor', 'motiv',\n",
       "       'motor', 'movement', 'mutual', 'nativ', 'navig', 'need', 'negoti',\n",
       "       'net', 'network', 'neutral', 'new', 'non', 'nosql', 'nurs',\n",
       "       'nurtur', 'object', 'occup', 'offer', 'offic', 'onboard',\n",
       "       'oncolog', 'onlin', 'oper', 'opportun', 'optim', 'option', 'oral',\n",
       "       'order', 'organ', 'organiz', 'orient', 'orthoped', 'outcom',\n",
       "       'outdoor', 'outgo', 'outlet', 'outreach', 'outsid', 'overal',\n",
       "       'overcom', 'overse', 'owner', 'packag', 'page', 'pain', 'paint',\n",
       "       'parent', 'park', 'parti', 'partnership', 'patent', 'pathologist',\n",
       "       'patient', 'pattern', 'pay', 'pcb', 'pediatr', 'pediatrician',\n",
       "       'penetr', 'pension', 'percept', 'perform', 'periodont', 'perk',\n",
       "       'person', 'persuas', 'pet', 'pharmaceut', 'phenomenon', 'phone',\n",
       "       'physic', 'physician', 'piec', 'pipelin', 'plan', 'plane',\n",
       "       'planner', 'plant', 'platform', 'play', 'pleas', 'point', 'polici',\n",
       "       'popul', 'portfolio', 'posit', 'possess', 'post', 'poster',\n",
       "       'potenti', 'power', 'pr', 'practic', 'practition', 'pre', 'precis',\n",
       "       'predict', 'prefer', 'prepar', 'preprocess', 'presenc', 'present',\n",
       "       'preserv', 'press', 'prevent', 'primari', 'principl', 'print',\n",
       "       'priorit', 'problem', 'procedur', 'proceed', 'process', 'procur',\n",
       "       'produc', 'product', 'profession', 'program', 'progress',\n",
       "       'project', 'promot', 'proper', 'properti', 'propos', 'propuls',\n",
       "       'protect', 'protocol', 'prototyp', 'provid', 'psycholog',\n",
       "       'psychologist', 'public', 'publish', 'purchas', 'purpos', 'pursu',\n",
       "       'qa', 'qualifi', 'qualiti', 'queri', 'question', 'rais', 'rank',\n",
       "       'rare', 'rate', 'reach', 'real', 'receiv', 'recognit', 'recommend',\n",
       "       'record', 'recoveri', 'recruit', 'reduc', 'refer', 'region',\n",
       "       'registr', 'regul', 'regulatori', 'rehabilit', 'relat',\n",
       "       'relationship', 'releas', 'relev', 'reliabl', 'remain', 'repetit',\n",
       "       'report', 'repres', 'represent', 'reput', 'requir', 'research',\n",
       "       'residenti', 'resolut', 'resolv', 'reson', 'resourc', 'respond',\n",
       "       'respons', 'restaur', 'result', 'retail', 'retent', 'retir',\n",
       "       'retriev', 'return', 'revenu', 'right', 'risk', 'road', 'role',\n",
       "       'room', 'root', 'rout', 'run', 'safe', 'safeguard', 'safeti',\n",
       "       'sale', 'satisfact', 'save', 'scalabl', 'scale', 'schedul',\n",
       "       'school', 'scienc', 'scientif', 'scientist', 'scope', 'screen',\n",
       "       'script', 'sculptur', 'seamless', 'search', 'secretari', 'secur',\n",
       "       'seek', 'segment', 'select', 'sell', 'sem', 'semi', 'seminar',\n",
       "       'senior', 'sens', 'seo', 'serv', 'server', 'servic', 'session',\n",
       "       'set', 'shop', 'showcas', 'site', 'situat', 'skill', 'small',\n",
       "       'smooth', 'smoothli', 'sobrieti', 'soc', 'social', 'sociolog',\n",
       "       'softwar', 'solut', 'solv', 'sourc', 'space', 'special',\n",
       "       'specialist', 'specif', 'speech', 'speed', 'spreadsheet', 'sql',\n",
       "       'stabil', 'stabl', 'stack', 'staf', 'staff', 'stakehold',\n",
       "       'standard', 'statement', 'statist', 'statu', 'stay', 'stock',\n",
       "       'storag', 'store', 'strateg', 'strategi', 'strategist',\n",
       "       'streamlin', 'strengthen', 'stress', 'strong', 'structur',\n",
       "       'struggl', 'student', 'studi', 'studio', 'subcontractor',\n",
       "       'subject', 'subscrib', 'subspecialti', 'substanc', 'success',\n",
       "       'suit', 'supervis', 'suppli', 'supplier', 'support', 'surgeon',\n",
       "       'surgeri', 'surgic', 'sustain', 'swallow', 'tailor', 'talent',\n",
       "       'target', 'task', 'tax', 'teach', 'teacher', 'team', 'technic',\n",
       "       'technician', 'techniqu', 'technolog', 'term', 'territori', 'test',\n",
       "       'tester', 'testimoni', 'therapi', 'therapist', 'threat', 'time',\n",
       "       'titl', 'tool', 'tooth', 'track', 'trade', 'trademark', 'traffic',\n",
       "       'train', 'trainer', 'transact', 'transform', 'transit', 'translat',\n",
       "       'transmiss', 'transport', 'treasuri', 'treat', 'treatment',\n",
       "       'trend', 'trial', 'troubleshoot', 'ui', 'ultim', 'unauthor',\n",
       "       'understand', 'uniqu', 'unit', 'unstructur', 'updat', 'urban',\n",
       "       'urgent', 'usabl', 'use', 'user', 'util', 'ux', 'valid', 'valu',\n",
       "       'valuabl', 'variou', 'vendor', 'ventil', 'venu', 'verifi',\n",
       "       'veterinarian', 'video', 'visibl', 'vision', 'visit', 'visual',\n",
       "       'volum', 'vulner', 'water', 'way', 'wealth', 'web', 'websit',\n",
       "       'wed', 'wide', 'wirefram', 'wireless', 'work', 'workflow',\n",
       "       'workplac', 'worth', 'write', 'writer'], dtype=object)"
      ]
     },
     "execution_count": 49,
     "metadata": {},
     "output_type": "execute_result"
    }
   ],
   "source": [
    "tfidf.get_feature_names_out()"
   ]
  },
  {
   "cell_type": "markdown",
   "metadata": {},
   "source": [
    "# **7. Compute Cosine Similarity**"
   ]
  },
  {
   "cell_type": "code",
   "execution_count": 53,
   "metadata": {},
   "outputs": [
    {
     "name": "stdout",
     "output_type": "stream",
     "text": [
      "[[ 507051  714756 1301140  557657  664269]\n",
      " [ 757229  459574  757173 1269186  502485]\n",
      " [ 488362  660281 1095811  488254  881514]\n",
      " [ 840509 1171424  145086  517553 1356708]\n",
      " [ 626322  451355  212906   26789 1243801]]\n"
     ]
    }
   ],
   "source": [
    "from sklearn.neighbors import NearestNeighbors\n",
    "\n",
    "nbrs = NearestNeighbors(n_neighbors=5, metric='cosine', algorithm='brute').fit(X)\n",
    "distances, indices = nbrs.kneighbors(X[:5])\n",
    "print(indices)"
   ]
  },
  {
   "cell_type": "markdown",
   "metadata": {},
   "source": [
    "# **8. Encode Target Variable (Job Titles)**"
   ]
  },
  {
   "cell_type": "code",
   "execution_count": 54,
   "metadata": {},
   "outputs": [
    {
     "name": "stdout",
     "output_type": "stream",
     "text": [
      "Number of unique job titles: 143\n",
      "Sample job title classes: ['account director' 'account executive' 'account manager' 'accountant'\n",
      " 'administrative assistant' 'aerospace engineer' 'architect'\n",
      " 'architectural designer' 'art director' 'art teacher']\n"
     ]
    }
   ],
   "source": [
    "le = LabelEncoder()\n",
    "y = le.fit_transform(df[\"Cleaned Job Title\"])\n",
    "print(\"Number of unique job titles:\", len(le.classes_))\n",
    "print(\"Sample job title classes:\", le.classes_[:10])"
   ]
  },
  {
   "cell_type": "markdown",
   "metadata": {},
   "source": [
    "# **9. Train-Test Split**"
   ]
  },
  {
   "cell_type": "code",
   "execution_count": 55,
   "metadata": {},
   "outputs": [],
   "source": [
    "X_train, X_test, y_train, y_test = train_test_split(X, y, test_size=0.20, random_state=42, stratify=y)"
   ]
  },
  {
   "cell_type": "code",
   "execution_count": 56,
   "metadata": {},
   "outputs": [
    {
     "name": "stdout",
     "output_type": "stream",
     "text": [
      "Training set shape: (1260624, 931)\n"
     ]
    }
   ],
   "source": [
    "print(\"Training set shape:\", X_train.shape)"
   ]
  },
  {
   "cell_type": "code",
   "execution_count": 57,
   "metadata": {},
   "outputs": [
    {
     "name": "stdout",
     "output_type": "stream",
     "text": [
      "Test set shape: (315156, 931)\n"
     ]
    }
   ],
   "source": [
    "print(\"Test set shape:\", X_test.shape)"
   ]
  },
  {
   "cell_type": "markdown",
   "metadata": {},
   "source": [
    "# **10. Model Training and Analysis**"
   ]
  },
  {
   "cell_type": "markdown",
   "metadata": {},
   "source": [
    "### Train a Decision Tree Classifier"
   ]
  },
  {
   "cell_type": "code",
   "execution_count": 58,
   "metadata": {},
   "outputs": [
    {
     "name": "stdout",
     "output_type": "stream",
     "text": [
      "Decision Tree Accuracy: 1.0\n",
      "Decision Tree Classification Report:\n",
      "                                     precision    recall  f1-score   support\n",
      "\n",
      "                   account director       1.00      1.00      1.00      1379\n",
      "                  account executive       1.00      1.00      1.00      2096\n",
      "                    account manager       1.00      1.00      1.00      2768\n",
      "                         accountant       1.00      1.00      1.00      2097\n",
      "           administrative assistant       1.00      1.00      1.00      3486\n",
      "                 aerospace engineer       1.00      1.00      1.00      2081\n",
      "                          architect       1.00      1.00      1.00      2779\n",
      "             architectural designer       1.00      1.00      1.00      1357\n",
      "                       art director       1.00      1.00      1.00      2073\n",
      "                        art teacher       1.00      1.00      1.00      2116\n",
      "                 back-end developer       1.00      1.00      1.00      1390\n",
      "                   brand ambassador       1.00      1.00      1.00      2120\n",
      "                      brand manager       1.00      1.00      1.00      2097\n",
      "                   business analyst       1.00      1.00      1.00      2050\n",
      "       business development manager       1.00      1.00      1.00      2057\n",
      "                  chemical engineer       1.00      1.00      1.00      2061\n",
      "                     civil engineer       1.00      1.00      1.00      2725\n",
      "                     content writer       1.00      1.00      1.00      2766\n",
      "                         copywriter       1.00      1.00      1.00      2078\n",
      "           customer service manager       1.00      1.00      1.00      2089\n",
      "    customer service representative       1.00      1.00      1.00      1402\n",
      "           customer success manager       1.00      1.00      1.00      2781\n",
      "        customer support specialist       1.00      1.00      1.00      3437\n",
      "                       data analyst       1.00      1.00      1.00      3467\n",
      "                      data engineer       1.00      1.00      1.00      2085\n",
      "                   data entry clerk       1.00      1.00      1.00      1409\n",
      "                     data scientist       1.00      1.00      1.00      1384\n",
      "             database administrator       1.00      1.00      1.00      2049\n",
      "                 database developer       1.00      1.00      1.00      1377\n",
      "                   dental hygienist       1.00      1.00      1.00      2078\n",
      "       digital marketing specialist       1.00      1.00      1.00      5576\n",
      "                electrical designer       1.00      1.00      1.00      2075\n",
      "                electrical engineer       1.00      1.00      1.00      2067\n",
      "         email marketing specialist       1.00      1.00      1.00      2069\n",
      "           environmental consultant       1.00      1.00      1.00      2084\n",
      "             environmental engineer       1.00      1.00      1.00      1355\n",
      "                  event coordinator       1.00      1.00      1.00      2767\n",
      "                      event manager       1.00      1.00      1.00       697\n",
      "                      event planner       1.00      1.00      1.00      3466\n",
      "                executive assistant       1.00      1.00      1.00      4142\n",
      "                      family lawyer       1.00      1.00      1.00      1400\n",
      "          family nurse practitioner       1.00      1.00      1.00      2082\n",
      "                    finance manager       1.00      1.00      1.00      2059\n",
      "                  financial advisor       1.00      1.00      1.00      4121\n",
      "                  financial analyst       1.00      1.00      1.00      2052\n",
      "               financial controller       1.00      1.00      1.00      1363\n",
      "                  financial planner       1.00      1.00      1.00       697\n",
      "                front-end developer       1.00      1.00      1.00      2085\n",
      "                 front-end engineer       1.00      1.00      1.00      1413\n",
      "                   graphic designer       1.00      1.00      1.00      2766\n",
      "                     hr coordinator       1.00      1.00      1.00      3440\n",
      "                      hr generalist       1.00      1.00      1.00       696\n",
      "                         hr manager       1.00      1.00      1.00      2073\n",
      "            human resources manager       1.00      1.00      1.00      2031\n",
      "                  interior designer       1.00      1.00      1.00      2092\n",
      "                  inventory analyst       1.00      1.00      1.00       667\n",
      "                 investment advisor       1.00      1.00      1.00       688\n",
      "                 investment analyst       1.00      1.00      1.00      2094\n",
      "                  investment banker       1.00      1.00      1.00      2762\n",
      "                   it administrator       1.00      1.00      1.00       693\n",
      "                         it manager       1.00      1.00      1.00      1414\n",
      "              it support specialist       1.00      1.00      1.00      2097\n",
      "                     java developer       1.00      1.00      1.00      2111\n",
      "                key account manager       1.00      1.00      1.00       679\n",
      "                landscape architect       1.00      1.00      1.00      2752\n",
      "                 landscape designer       1.00      1.00      1.00      1367\n",
      "                    legal assistant       1.00      1.00      1.00      2804\n",
      "                      legal counsel       1.00      1.00      1.00      2060\n",
      "                    legal secretary       1.00      1.00      1.00      1375\n",
      "                litigation attorney       1.00      1.00      1.00      2769\n",
      "                     market analyst       1.00      1.00      1.00       706\n",
      "            market research analyst       1.00      1.00      1.00      2078\n",
      "                  marketing analyst       1.00      1.00      1.00      2776\n",
      "              marketing coordinator       1.00      1.00      1.00      2076\n",
      "                 marketing director       1.00      1.00      1.00      2075\n",
      "                  marketing manager       1.00      1.00      1.00      2773\n",
      "               marketing specialist       1.00      1.00      1.00      2119\n",
      "                mechanical designer       1.00      1.00      1.00      2049\n",
      "                mechanical engineer       1.00      1.00      1.00      2770\n",
      "              network administrator       1.00      1.00      1.00      3505\n",
      "                    network analyst       1.00      1.00      1.00       694\n",
      "                   network engineer       1.00      1.00      1.00      4862\n",
      "        network security specialist       1.00      1.00      1.00      2098\n",
      "                 network technician       1.00      1.00      1.00      1391\n",
      "                      nurse manager       1.00      1.00      1.00      2029\n",
      "                 nurse practitioner       1.00      1.00      1.00      2102\n",
      "             occupational therapist       1.00      1.00      1.00      2102\n",
      "                     office manager       1.00      1.00      1.00      2081\n",
      "                 operations manager       1.00      1.00      1.00      2778\n",
      "                          paralegal       1.00      1.00      1.00      2094\n",
      "                       pediatrician       1.00      1.00      1.00      2098\n",
      "                 personal assistant       1.00      1.00      1.00       686\n",
      "pharmaceutical sales representative       1.00      1.00      1.00      2081\n",
      "                 physical therapist       1.00      1.00      1.00      2072\n",
      "                physician assistant       1.00      1.00      1.00      2121\n",
      "                   process engineer       1.00      1.00      1.00      1382\n",
      "            procurement coordinator       1.00      1.00      1.00       683\n",
      "                procurement manager       1.00      1.00      1.00      4133\n",
      "             procurement specialist       1.00      1.00      1.00      3458\n",
      "                   product designer       1.00      1.00      1.00       703\n",
      "                    product manager       1.00      1.00      1.00      1371\n",
      "                project coordinator       1.00      1.00      1.00      2752\n",
      "                    project manager       1.00      1.00      1.00      2775\n",
      "                       psychologist       1.00      1.00      1.00      2058\n",
      "        public relations specialist       1.00      1.00      1.00      2094\n",
      "                   purchasing agent       1.00      1.00      1.00      3444\n",
      "                         qa analyst       1.00      1.00      1.00      2095\n",
      "                        qa engineer       1.00      1.00      1.00       686\n",
      "          quality assurance analyst       1.00      1.00      1.00      2100\n",
      "                   registered nurse       1.00      1.00      1.00      2074\n",
      "                   research analyst       1.00      1.00      1.00      2732\n",
      "                 research scientist       1.00      1.00      1.00      2055\n",
      "                    sales associate       1.00      1.00      1.00       693\n",
      "                   sales consultant       1.00      1.00      1.00      2060\n",
      "                      sales manager       1.00      1.00      1.00      2078\n",
      "               sales representative       1.00      1.00      1.00      3522\n",
      "                     sem specialist       1.00      1.00      1.00      2015\n",
      "                     seo specialist       1.00      1.00      1.00      2071\n",
      "           social media coordinator       1.00      1.00      1.00      1372\n",
      "               social media manager       1.00      1.00      1.00      3510\n",
      "                      social worker       1.00      1.00      1.00      2073\n",
      "                 software architect       1.00      1.00      1.00      2086\n",
      "                 software developer       1.00      1.00      1.00       702\n",
      "                  software engineer       1.00      1.00      1.00      5507\n",
      "                    software tester       1.00      1.00      1.00      4174\n",
      "                   speech therapist       1.00      1.00      1.00      2079\n",
      "                structural engineer       1.00      1.00      1.00      2068\n",
      "          substance abuse counselor       1.00      1.00      1.00      2101\n",
      "               supply chain analyst       1.00      1.00      1.00       698\n",
      "               supply chain manager       1.00      1.00      1.00      2771\n",
      "              systems administrator       1.00      1.00      1.00      3445\n",
      "                    systems analyst       1.00      1.00      1.00      1404\n",
      "                     tax consultant       1.00      1.00      1.00      2089\n",
      "                            teacher       1.00      1.00      1.00      2095\n",
      "                   technical writer       1.00      1.00      1.00      2069\n",
      "                       ui developer       1.00      1.00      1.00      2776\n",
      "                      urban planner       1.00      1.00      1.00      2091\n",
      "                      ux researcher       1.00      1.00      1.00      2101\n",
      "                     ux/ui designer       1.00      1.00      1.00      9675\n",
      "                       veterinarian       1.00      1.00      1.00      2080\n",
      "                       web designer       1.00      1.00      1.00      1379\n",
      "                      web developer       1.00      1.00      1.00      2063\n",
      "                    wedding planner       1.00      1.00      1.00      1364\n",
      "\n",
      "                           accuracy                           1.00    315156\n",
      "                          macro avg       1.00      1.00      1.00    315156\n",
      "                       weighted avg       1.00      1.00      1.00    315156\n",
      "\n"
     ]
    }
   ],
   "source": [
    "dt_model = DecisionTreeClassifier(random_state=42)\n",
    "dt_model.fit(X_train, y_train)\n",
    "y_pred_dt = dt_model.predict(X_test)\n",
    "dt_accuracy = accuracy_score(y_test, y_pred_dt)\n",
    "print(\"Decision Tree Accuracy:\", dt_accuracy)\n",
    "print(\"Decision Tree Classification Report:\")\n",
    "print(classification_report(y_test, y_pred_dt, target_names=le.classes_))"
   ]
  },
  {
   "cell_type": "markdown",
   "metadata": {},
   "source": [
    "### Train a Random Forest Classifier"
   ]
  },
  {
   "cell_type": "code",
   "execution_count": 59,
   "metadata": {},
   "outputs": [
    {
     "name": "stdout",
     "output_type": "stream",
     "text": [
      "Random Forest Accuracy: 1.0\n",
      "Random Forest Classification Report:\n",
      "                                     precision    recall  f1-score   support\n",
      "\n",
      "                   account director       1.00      1.00      1.00      1379\n",
      "                  account executive       1.00      1.00      1.00      2096\n",
      "                    account manager       1.00      1.00      1.00      2768\n",
      "                         accountant       1.00      1.00      1.00      2097\n",
      "           administrative assistant       1.00      1.00      1.00      3486\n",
      "                 aerospace engineer       1.00      1.00      1.00      2081\n",
      "                          architect       1.00      1.00      1.00      2779\n",
      "             architectural designer       1.00      1.00      1.00      1357\n",
      "                       art director       1.00      1.00      1.00      2073\n",
      "                        art teacher       1.00      1.00      1.00      2116\n",
      "                 back-end developer       1.00      1.00      1.00      1390\n",
      "                   brand ambassador       1.00      1.00      1.00      2120\n",
      "                      brand manager       1.00      1.00      1.00      2097\n",
      "                   business analyst       1.00      1.00      1.00      2050\n",
      "       business development manager       1.00      1.00      1.00      2057\n",
      "                  chemical engineer       1.00      1.00      1.00      2061\n",
      "                     civil engineer       1.00      1.00      1.00      2725\n",
      "                     content writer       1.00      1.00      1.00      2766\n",
      "                         copywriter       1.00      1.00      1.00      2078\n",
      "           customer service manager       1.00      1.00      1.00      2089\n",
      "    customer service representative       1.00      1.00      1.00      1402\n",
      "           customer success manager       1.00      1.00      1.00      2781\n",
      "        customer support specialist       1.00      1.00      1.00      3437\n",
      "                       data analyst       1.00      1.00      1.00      3467\n",
      "                      data engineer       1.00      1.00      1.00      2085\n",
      "                   data entry clerk       1.00      1.00      1.00      1409\n",
      "                     data scientist       1.00      1.00      1.00      1384\n",
      "             database administrator       1.00      1.00      1.00      2049\n",
      "                 database developer       1.00      1.00      1.00      1377\n",
      "                   dental hygienist       1.00      1.00      1.00      2078\n",
      "       digital marketing specialist       1.00      1.00      1.00      5576\n",
      "                electrical designer       1.00      1.00      1.00      2075\n",
      "                electrical engineer       1.00      1.00      1.00      2067\n",
      "         email marketing specialist       1.00      1.00      1.00      2069\n",
      "           environmental consultant       1.00      1.00      1.00      2084\n",
      "             environmental engineer       1.00      1.00      1.00      1355\n",
      "                  event coordinator       1.00      1.00      1.00      2767\n",
      "                      event manager       1.00      1.00      1.00       697\n",
      "                      event planner       1.00      1.00      1.00      3466\n",
      "                executive assistant       1.00      1.00      1.00      4142\n",
      "                      family lawyer       1.00      1.00      1.00      1400\n",
      "          family nurse practitioner       1.00      1.00      1.00      2082\n",
      "                    finance manager       1.00      1.00      1.00      2059\n",
      "                  financial advisor       1.00      1.00      1.00      4121\n",
      "                  financial analyst       1.00      1.00      1.00      2052\n",
      "               financial controller       1.00      1.00      1.00      1363\n",
      "                  financial planner       1.00      1.00      1.00       697\n",
      "                front-end developer       1.00      1.00      1.00      2085\n",
      "                 front-end engineer       1.00      1.00      1.00      1413\n",
      "                   graphic designer       1.00      1.00      1.00      2766\n",
      "                     hr coordinator       1.00      1.00      1.00      3440\n",
      "                      hr generalist       1.00      1.00      1.00       696\n",
      "                         hr manager       1.00      1.00      1.00      2073\n",
      "            human resources manager       1.00      1.00      1.00      2031\n",
      "                  interior designer       1.00      1.00      1.00      2092\n",
      "                  inventory analyst       1.00      1.00      1.00       667\n",
      "                 investment advisor       1.00      1.00      1.00       688\n",
      "                 investment analyst       1.00      1.00      1.00      2094\n",
      "                  investment banker       1.00      1.00      1.00      2762\n",
      "                   it administrator       1.00      1.00      1.00       693\n",
      "                         it manager       1.00      1.00      1.00      1414\n",
      "              it support specialist       1.00      1.00      1.00      2097\n",
      "                     java developer       1.00      1.00      1.00      2111\n",
      "                key account manager       1.00      1.00      1.00       679\n",
      "                landscape architect       1.00      1.00      1.00      2752\n",
      "                 landscape designer       1.00      1.00      1.00      1367\n",
      "                    legal assistant       1.00      1.00      1.00      2804\n",
      "                      legal counsel       1.00      1.00      1.00      2060\n",
      "                    legal secretary       1.00      1.00      1.00      1375\n",
      "                litigation attorney       1.00      1.00      1.00      2769\n",
      "                     market analyst       1.00      1.00      1.00       706\n",
      "            market research analyst       1.00      1.00      1.00      2078\n",
      "                  marketing analyst       1.00      1.00      1.00      2776\n",
      "              marketing coordinator       1.00      1.00      1.00      2076\n",
      "                 marketing director       1.00      1.00      1.00      2075\n",
      "                  marketing manager       1.00      1.00      1.00      2773\n",
      "               marketing specialist       1.00      1.00      1.00      2119\n",
      "                mechanical designer       1.00      1.00      1.00      2049\n",
      "                mechanical engineer       1.00      1.00      1.00      2770\n",
      "              network administrator       1.00      1.00      1.00      3505\n",
      "                    network analyst       1.00      1.00      1.00       694\n",
      "                   network engineer       1.00      1.00      1.00      4862\n",
      "        network security specialist       1.00      1.00      1.00      2098\n",
      "                 network technician       1.00      1.00      1.00      1391\n",
      "                      nurse manager       1.00      1.00      1.00      2029\n",
      "                 nurse practitioner       1.00      1.00      1.00      2102\n",
      "             occupational therapist       1.00      1.00      1.00      2102\n",
      "                     office manager       1.00      1.00      1.00      2081\n",
      "                 operations manager       1.00      1.00      1.00      2778\n",
      "                          paralegal       1.00      1.00      1.00      2094\n",
      "                       pediatrician       1.00      1.00      1.00      2098\n",
      "                 personal assistant       1.00      1.00      1.00       686\n",
      "pharmaceutical sales representative       1.00      1.00      1.00      2081\n",
      "                 physical therapist       1.00      1.00      1.00      2072\n",
      "                physician assistant       1.00      1.00      1.00      2121\n",
      "                   process engineer       1.00      1.00      1.00      1382\n",
      "            procurement coordinator       1.00      1.00      1.00       683\n",
      "                procurement manager       1.00      1.00      1.00      4133\n",
      "             procurement specialist       1.00      1.00      1.00      3458\n",
      "                   product designer       1.00      1.00      1.00       703\n",
      "                    product manager       1.00      1.00      1.00      1371\n",
      "                project coordinator       1.00      1.00      1.00      2752\n",
      "                    project manager       1.00      1.00      1.00      2775\n",
      "                       psychologist       1.00      1.00      1.00      2058\n",
      "        public relations specialist       1.00      1.00      1.00      2094\n",
      "                   purchasing agent       1.00      1.00      1.00      3444\n",
      "                         qa analyst       1.00      1.00      1.00      2095\n",
      "                        qa engineer       1.00      1.00      1.00       686\n",
      "          quality assurance analyst       1.00      1.00      1.00      2100\n",
      "                   registered nurse       1.00      1.00      1.00      2074\n",
      "                   research analyst       1.00      1.00      1.00      2732\n",
      "                 research scientist       1.00      1.00      1.00      2055\n",
      "                    sales associate       1.00      1.00      1.00       693\n",
      "                   sales consultant       1.00      1.00      1.00      2060\n",
      "                      sales manager       1.00      1.00      1.00      2078\n",
      "               sales representative       1.00      1.00      1.00      3522\n",
      "                     sem specialist       1.00      1.00      1.00      2015\n",
      "                     seo specialist       1.00      1.00      1.00      2071\n",
      "           social media coordinator       1.00      1.00      1.00      1372\n",
      "               social media manager       1.00      1.00      1.00      3510\n",
      "                      social worker       1.00      1.00      1.00      2073\n",
      "                 software architect       1.00      1.00      1.00      2086\n",
      "                 software developer       1.00      1.00      1.00       702\n",
      "                  software engineer       1.00      1.00      1.00      5507\n",
      "                    software tester       1.00      1.00      1.00      4174\n",
      "                   speech therapist       1.00      1.00      1.00      2079\n",
      "                structural engineer       1.00      1.00      1.00      2068\n",
      "          substance abuse counselor       1.00      1.00      1.00      2101\n",
      "               supply chain analyst       1.00      1.00      1.00       698\n",
      "               supply chain manager       1.00      1.00      1.00      2771\n",
      "              systems administrator       1.00      1.00      1.00      3445\n",
      "                    systems analyst       1.00      1.00      1.00      1404\n",
      "                     tax consultant       1.00      1.00      1.00      2089\n",
      "                            teacher       1.00      1.00      1.00      2095\n",
      "                   technical writer       1.00      1.00      1.00      2069\n",
      "                       ui developer       1.00      1.00      1.00      2776\n",
      "                      urban planner       1.00      1.00      1.00      2091\n",
      "                      ux researcher       1.00      1.00      1.00      2101\n",
      "                     ux/ui designer       1.00      1.00      1.00      9675\n",
      "                       veterinarian       1.00      1.00      1.00      2080\n",
      "                       web designer       1.00      1.00      1.00      1379\n",
      "                      web developer       1.00      1.00      1.00      2063\n",
      "                    wedding planner       1.00      1.00      1.00      1364\n",
      "\n",
      "                           accuracy                           1.00    315156\n",
      "                          macro avg       1.00      1.00      1.00    315156\n",
      "                       weighted avg       1.00      1.00      1.00    315156\n",
      "\n"
     ]
    }
   ],
   "source": [
    "rf_model = RandomForestClassifier(n_estimators=100, random_state=42)\n",
    "rf_model.fit(X_train, y_train)\n",
    "y_pred_rf = rf_model.predict(X_test)\n",
    "rf_accuracy = accuracy_score(y_test, y_pred_rf)\n",
    "print(\"Random Forest Accuracy:\", rf_accuracy)\n",
    "print(\"Random Forest Classification Report:\")\n",
    "print(classification_report(y_test, y_pred_rf, target_names=le.classes_))"
   ]
  },
  {
   "cell_type": "markdown",
   "metadata": {},
   "source": [
    "### Plot and save confusion matrix for Random Forest model\n"
   ]
  },
  {
   "cell_type": "code",
   "execution_count": 60,
   "metadata": {},
   "outputs": [
    {
     "name": "stdout",
     "output_type": "stream",
     "text": [
      "Confusion matrix saved as 'random_forest_confusion_matrix.png'\n"
     ]
    }
   ],
   "source": [
    "cm = confusion_matrix(y_test, y_pred_rf)\n",
    "plt.figure(figsize=(35, 25))\n",
    "sns.heatmap(cm, annot=True, fmt=\"d\", cmap=\"Blues\",\n",
    "            xticklabels=le.classes_, yticklabels=le.classes_)\n",
    "plt.title(\"Random Forest Confusion Matrix\")\n",
    "plt.xlabel(\"Predicted\")\n",
    "plt.ylabel(\"True\")\n",
    "plt.tight_layout()\n",
    "plt.savefig(\"random_forest_confusion_matrix.png\")\n",
    "plt.close()\n",
    "print(\"Confusion matrix saved as 'random_forest_confusion_matrix.png'\")"
   ]
  },
  {
   "cell_type": "markdown",
   "metadata": {},
   "source": [
    "# **11. Save Artifacts (Models, Vectorizer, Label Encoder)**"
   ]
  },
  {
   "cell_type": "code",
   "execution_count": 61,
   "metadata": {},
   "outputs": [
    {
     "name": "stdout",
     "output_type": "stream",
     "text": [
      "Artifacts saved successfully in the 'models' directory.\n"
     ]
    }
   ],
   "source": [
    "model_dir = \"models\"\n",
    "os.makedirs(model_dir, exist_ok=True)\n",
    "\n",
    "joblib.dump(tfidf, os.path.join(model_dir, \"tfidf_vectorizer.pkl\"))\n",
    "joblib.dump(dt_model, os.path.join(model_dir, \"decision_tree_model.pkl\"))\n",
    "joblib.dump(rf_model, os.path.join(model_dir, \"random_forest_model.pkl\"))\n",
    "joblib.dump(le, os.path.join(model_dir, \"label_encoder.pkl\"))\n",
    "\n",
    "print(\"Artifacts saved successfully in the 'models' directory.\")"
   ]
  }
 ],
 "metadata": {
  "kernelspec": {
   "display_name": "Python 3",
   "language": "python",
   "name": "python3"
  },
  "language_info": {
   "codemirror_mode": {
    "name": "ipython",
    "version": 3
   },
   "file_extension": ".py",
   "mimetype": "text/x-python",
   "name": "python",
   "nbconvert_exporter": "python",
   "pygments_lexer": "ipython3",
   "version": "3.10.11"
  }
 },
 "nbformat": 4,
 "nbformat_minor": 2
}
